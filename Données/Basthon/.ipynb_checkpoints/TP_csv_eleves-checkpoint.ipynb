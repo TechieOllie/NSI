{
 "cells": [
  {
   "cell_type": "markdown",
   "metadata": {},
   "source": [
    "## Utilisation des csv\n",
    "\n",
    "L' INSEE (Institut National de la Statistiqus et des Etudes Economiques) propose sur son site internet un grand nombre de fichiers téléchargeables en plusieurs formats.\n",
    "\n",
    "Nous allons travailler sur ce fichier qui donne des informations sur les communes de France en 2015, date du dernier recencement national.\n",
    "\n",
    "Allez sur le site suivant et téléchargez le fichier au format .xls\n",
    "https://www.insee.fr/fr/statistiques/3545833?sommaire=3292701\n",
    "\n",
    "**A Faire:**\n",
    "\n",
    "* Ouvrez le fichier xls\n",
    "* supprimez les premières lignes jusqu'à la ligne \"Code région\" non incluse\n",
    "* Modifiez le format des nombres dans les 3 dernières colonnes de l'onglet \"communes\", pour enlever le séparateur de milliers.\n",
    "* supprimez la dernière ligne qui ne contient que des points virgules.\n",
    "* Sauvegardez uniquement cet onglet \"communes\" dans un nouveau fichier \"communes.csv\""
   ]
  },
  {
   "cell_type": "markdown",
   "metadata": {},
   "source": [
    "**A faire**\n",
    "\n",
    "Ecrire le code qui permet d'importer les données de ce fichier dans une table \"communes_liste_de_liste\" qui contiendra donc une liste de liste des données.  \n",
    "Utiliser csv.reader()  \n",
    "Affichez la 137ème commune qui est \"Dortan\""
   ]
  },
  {
   "cell_type": "code",
   "execution_count": 9,
   "metadata": {},
   "outputs": [
    {
     "name": "stdout",
     "output_type": "stream",
     "text": [
      "['84;Auvergne-Rhône-Alpes;01;4;16;148;Dortan;1845;44;1889;']\n"
     ]
    }
   ],
   "source": [
    "import csv\n",
    "# votre code ici\n",
    "with open('communes.csv', newline='', encoding= 'utf-8-sig') as filein:\n",
    "    communes_liste_de_liste = list(csv.reader(filein))\n",
    "    print(communes_liste_de_liste[136])\n",
    "\n",
    "\n",
    "#assert (communes_liste_de_liste[136][6] == 'Dortan')\n"
   ]
  },
  {
   "cell_type": "markdown",
   "metadata": {},
   "source": [
    "<div class = \"alert alert-info\">\n",
    "    \n",
    "Cette fonction renvoie donc une liste dont le premier element est la liste des colonnes du fichier csv, puis les autres éléments contiennent les données du fichier csv (une liste par ligne).\n",
    "C'est donc une liste de listes, et on peut manipuler ces données ainsi.\n",
    "\n",
    "Le gros inconvénient, c'est qu'il faut sans arrêt regarder la 1ere liste car elle seule contient la signification des colonnes.  \n",
    "Donc, si l'ordre des colonnes change, notre script ne va plus fonctionner.  \n",
    "**C'est pour cela qu'on préfère utiliser des listes de dictionnaires...**"
   ]
  },
  {
   "cell_type": "markdown",
   "metadata": {},
   "source": [
    "### **A faire**\n",
    "\n",
    "Ecrire maintenant une fonction \"importer_csv()\" pour importer les données de ce fichier dans une table \"communes_liste_de_dico\" qui contiendra donc une liste de dictionnaires des données.  \n",
    "Utiliser csv.Dictreader()"
   ]
  },
  {
   "cell_type": "code",
   "execution_count": null,
   "metadata": {},
   "outputs": [],
   "source": [
    "import csv\n",
    "\n",
    "def importer_csv(chemin_fichier: str)-> list:\n",
    "    \"\"\"\n",
    "    cette fonction ouvre un fichier csv et renvoie une liste de dictionnaires avec une dictionnaire par ligne\n",
    "    \"\"\"\n",
    "    # votre code ici\n",
    "    \n",
    "    \n",
    "    \n",
    "    return liste_dicos\n",
    "\n",
    "communes_liste_de_dico = importer_csv(\"communes.csv\")"
   ]
  },
  {
   "cell_type": "code",
   "execution_count": null,
   "metadata": {},
   "outputs": [],
   "source": [
    "print(communes_liste_de_dico[2])"
   ]
  },
  {
   "cell_type": "markdown",
   "metadata": {},
   "source": [
    "On aimerait trouver les villes ayant une population totale de plus de 150000 habitants, afficher le nom de la ville puis sa population.\n",
    "\n",
    "**A faire**\n",
    "Ecrire 2 codes différents qui font cela, un qui utilise la liste de liste et l'autre la liste de dictionnaires."
   ]
  },
  {
   "cell_type": "code",
   "execution_count": null,
   "metadata": {},
   "outputs": [],
   "source": [
    "# votre code ici"
   ]
  },
  {
   "cell_type": "code",
   "execution_count": null,
   "metadata": {},
   "outputs": [],
   "source": [
    "# votre code ici\n"
   ]
  },
  {
   "cell_type": "markdown",
   "metadata": {},
   "source": [
    "Par défaut, les données sont classées par ordre alphabétique sur le nom de la région, puis sur le nom de la commune.  \n",
    "**A faire:**  \n",
    "Ecrire le code qui permet d'afficher toutes les communes, suivies de leur région et du nombre total d'habitants, dans l'ordre croissant de leur nombre total d'habitants (une commune par ligne), tant que ce nombre d'habitant ne dépasse par 1500.\n",
    "\n",
    "Utilisez la fonction **sorted et la liste de liste**\n"
   ]
  },
  {
   "cell_type": "code",
   "execution_count": null,
   "metadata": {},
   "outputs": [],
   "source": [
    "# votre code ici"
   ]
  },
  {
   "cell_type": "markdown",
   "metadata": {},
   "source": [
    "**A faire:**  \n",
    "Ecrire le code pour afficher toutes les communes dont le nom commence par \"Pont-\" ainsi que leur région et leur nombre d'habitants.  \n",
    "Afficher combien il y en a.\n"
   ]
  },
  {
   "cell_type": "code",
   "execution_count": null,
   "metadata": {},
   "outputs": [],
   "source": [
    "# votre code ici"
   ]
  }
 ],
 "metadata": {
  "hide_input": false,
  "kernelspec": {
   "display_name": "Python 3 (ipykernel)",
   "language": "python",
   "name": "python3"
  },
  "language_info": {
   "codemirror_mode": {
    "name": "ipython",
    "version": 3
   },
   "file_extension": ".py",
   "mimetype": "text/x-python",
   "name": "python",
   "nbconvert_exporter": "python",
   "pygments_lexer": "ipython3",
   "version": "3.9.12"
  },
  "vscode": {
   "interpreter": {
    "hash": "ea436c6e85d42574b84dc879014e1c70b6163ea2e0fda9f3f054d3691a0d62c6"
   }
  }
 },
 "nbformat": 4,
 "nbformat_minor": 2
}
